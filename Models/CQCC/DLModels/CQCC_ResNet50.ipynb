{
 "cells": [
  {
   "cell_type": "code",
   "execution_count": 1,
   "metadata": {
    "id": "ACgT2jaHdlTR"
   },
   "outputs": [
    {
     "name": "stderr",
     "output_type": "stream",
     "text": [
      "2025-03-08 22:43:12.351412: I tensorflow/core/util/port.cc:153] oneDNN custom operations are on. You may see slightly different numerical results due to floating-point round-off errors from different computation orders. To turn them off, set the environment variable `TF_ENABLE_ONEDNN_OPTS=0`.\n",
      "2025-03-08 22:43:12.361520: E external/local_xla/xla/stream_executor/cuda/cuda_fft.cc:477] Unable to register cuFFT factory: Attempting to register factory for plugin cuFFT when one has already been registered\n",
      "WARNING: All log messages before absl::InitializeLog() is called are written to STDERR\n",
      "E0000 00:00:1741448592.372599  438340 cuda_dnn.cc:8310] Unable to register cuDNN factory: Attempting to register factory for plugin cuDNN when one has already been registered\n",
      "E0000 00:00:1741448592.375893  438340 cuda_blas.cc:1418] Unable to register cuBLAS factory: Attempting to register factory for plugin cuBLAS when one has already been registered\n",
      "2025-03-08 22:43:12.389091: I tensorflow/core/platform/cpu_feature_guard.cc:210] This TensorFlow binary is optimized to use available CPU instructions in performance-critical operations.\n",
      "To enable the following instructions: AVX2 AVX512F AVX512_VNNI AVX512_BF16 FMA, in other operations, rebuild TensorFlow with the appropriate compiler flags.\n"
     ]
    }
   ],
   "source": [
    "import os\n",
    "import numpy as np\n",
    "import librosa.display\n",
    "import matplotlib.pyplot as plt\n",
    "import tensorflow as tf\n",
    "from tensorflow import keras\n",
    "from tensorflow.keras import layers, models\n",
    "from tensorflow.keras.utils import to_categorical\n",
    "from tensorflow.keras.applications import MobileNet, ResNet50\n",
    "from tensorflow.keras.optimizers import Adam\n",
    "from tensorflow.keras.models import Model, Sequential, load_model\n",
    "from tensorflow.keras.layers import (\n",
    "    Conv2D, MaxPooling2D, Flatten, Dense, Dropout, GlobalAveragePooling2D, BatchNormalization\n",
    ")\n",
    "from sklearn.model_selection import train_test_split\n",
    "from sklearn.metrics import f1_score, classification_report, accuracy_score, roc_curve\n",
    "import gc"
   ]
  },
  {
   "cell_type": "code",
   "execution_count": null,
   "metadata": {},
   "outputs": [
    {
     "data": {
      "text/plain": [
       "(15918, 32, 109)"
      ]
     },
     "execution_count": 4,
     "metadata": {},
     "output_type": "execute_result"
    }
   ],
   "source": [
    "X = np.load('../SavedFeatures/X_cqcc.npy')\n",
    "y = np.load('../SavedFeatures/y_cqcc.npy')\n",
    "\n",
    "pad_height = (3, 0)  \n",
    "pad_width = (0, 0)   \n",
    "X = np.pad(X, pad_width=((0, 0), pad_height, pad_width), mode='constant', constant_values=0)\n",
    "X.shape"
   ]
  },
  {
   "cell_type": "code",
   "execution_count": null,
   "metadata": {},
   "outputs": [],
   "source": [
    "X_train, X_val, y_train, y_val= train_test_split(X, y, test_size = 0.2, random_state = 42)\n",
    "\n",
    "y_train = to_categorical(y_train, num_classes=2)\n",
    "y_val = to_categorical(y_val, num_classes=2)\n",
    "\n",
    "del X, y  \n",
    "gc.collect()"
   ]
  },
  {
   "cell_type": "code",
   "execution_count": 7,
   "metadata": {},
   "outputs": [],
   "source": [
    "def model_resnet(input_shape, num_classes):\n",
    "    base_model = ResNet50(include_top=False, weights=None, input_shape=input_shape)\n",
    "    x = GlobalAveragePooling2D()(base_model.output) \n",
    "    x = BatchNormalization()(x)\n",
    "\n",
    "    x = Dense(512, activation='relu')(x)\n",
    "    x = BatchNormalization()(x)  \n",
    "    x = Dropout(0.4)(x)\n",
    "\n",
    "    x = Dense(256, activation='relu')(x)\n",
    "    x = BatchNormalization()(x)  \n",
    "    x = Dropout(0.4)(x)\n",
    "\n",
    "    x = Dense(128, activation='relu')(x)\n",
    "    x = BatchNormalization()(x)  \n",
    "    x = Dropout(0.2)(x)\n",
    "\n",
    "    x = Dense(64, activation='relu')(x)\n",
    "    x = BatchNormalization()(x)  \n",
    "    x = Dropout(0.2)(x)\n",
    "    \n",
    "    x = Dense(num_classes, activation='softmax')(x)\n",
    "    return Model(inputs=base_model.input, outputs=x)"
   ]
  },
  {
   "cell_type": "code",
   "execution_count": 8,
   "metadata": {},
   "outputs": [],
   "source": [
    "tf.keras.backend.clear_session()"
   ]
  },
  {
   "cell_type": "code",
   "execution_count": 9,
   "metadata": {},
   "outputs": [
    {
     "name": "stderr",
     "output_type": "stream",
     "text": [
      "I0000 00:00:1741448603.232084  438340 gpu_device.cc:2022] Created device /job:localhost/replica:0/task:0/device:GPU:0 with 10125 MB memory:  -> device: 0, name: NVIDIA GeForce RTX 4060 Ti, pci bus id: 0000:01:00.0, compute capability: 8.9\n"
     ]
    }
   ],
   "source": [
    "mrsnt = model_resnet(input_shape=(32, 109, 1), num_classes=2)\n",
    "mrsnt.compile(optimizer=tf.keras.optimizers.Adam(learning_rate=0.0001), loss='binary_crossentropy', metrics=['accuracy'])\n"
   ]
  },
  {
   "cell_type": "code",
   "execution_count": 10,
   "metadata": {},
   "outputs": [
    {
     "name": "stdout",
     "output_type": "stream",
     "text": [
      "Epoch 1/10\n"
     ]
    },
    {
     "name": "stderr",
     "output_type": "stream",
     "text": [
      "WARNING: All log messages before absl::InitializeLog() is called are written to STDERR\n",
      "I0000 00:00:1741448619.381364  438408 service.cc:148] XLA service 0x7ef7d0002320 initialized for platform CUDA (this does not guarantee that XLA will be used). Devices:\n",
      "I0000 00:00:1741448619.381381  438408 service.cc:156]   StreamExecutor device (0): NVIDIA GeForce RTX 4060 Ti, Compute Capability 8.9\n",
      "2025-03-08 22:43:39.786504: I tensorflow/compiler/mlir/tensorflow/utils/dump_mlir_util.cc:268] disabling MLIR crash reproducer, set env var `MLIR_CRASH_REPRODUCER_DIRECTORY` to enable.\n",
      "I0000 00:00:1741448621.469692  438408 cuda_dnn.cc:529] Loaded cuDNN version 90300\n"
     ]
    },
    {
     "name": "stdout",
     "output_type": "stream",
     "text": [
      "\u001b[1m  4/637\u001b[0m \u001b[37m━━━━━━━━━━━━━━━━━━━━\u001b[0m \u001b[1m10s\u001b[0m 17ms/step - accuracy: 0.6445 - loss: 0.7769   "
     ]
    },
    {
     "name": "stderr",
     "output_type": "stream",
     "text": [
      "2025-03-08 22:43:49.720927: I external/local_xla/xla/stream_executor/cuda/cuda_asm_compiler.cc:397] ptxas warning : Registers are spilled to local memory in function 'loop_add_subtract_fusion_17', 12 bytes spill stores, 36 bytes spill loads\n",
      "\n",
      "I0000 00:00:1741448629.812866  438408 device_compiler.h:188] Compiled cluster using XLA!  This line is logged at most once for the lifetime of the process.\n"
     ]
    },
    {
     "name": "stdout",
     "output_type": "stream",
     "text": [
      "\u001b[1m637/637\u001b[0m \u001b[32m━━━━━━━━━━━━━━━━━━━━\u001b[0m\u001b[37m\u001b[0m \u001b[1m48s\u001b[0m 39ms/step - accuracy: 0.7527 - loss: 0.5849 - val_accuracy: 0.7511 - val_loss: 0.7944\n",
      "Epoch 2/10\n",
      "\u001b[1m637/637\u001b[0m \u001b[32m━━━━━━━━━━━━━━━━━━━━\u001b[0m\u001b[37m\u001b[0m \u001b[1m13s\u001b[0m 20ms/step - accuracy: 0.8498 - loss: 0.3859 - val_accuracy: 0.8861 - val_loss: 0.3469\n",
      "Epoch 3/10\n",
      "\u001b[1m637/637\u001b[0m \u001b[32m━━━━━━━━━━━━━━━━━━━━\u001b[0m\u001b[37m\u001b[0m \u001b[1m11s\u001b[0m 18ms/step - accuracy: 0.8692 - loss: 0.3483 - val_accuracy: 0.8991 - val_loss: 0.2646\n",
      "Epoch 4/10\n",
      "\u001b[1m637/637\u001b[0m \u001b[32m━━━━━━━━━━━━━━━━━━━━\u001b[0m\u001b[37m\u001b[0m \u001b[1m11s\u001b[0m 17ms/step - accuracy: 0.8794 - loss: 0.3010 - val_accuracy: 0.9105 - val_loss: 0.2515\n",
      "Epoch 5/10\n",
      "\u001b[1m637/637\u001b[0m \u001b[32m━━━━━━━━━━━━━━━━━━━━\u001b[0m\u001b[37m\u001b[0m \u001b[1m13s\u001b[0m 20ms/step - accuracy: 0.8936 - loss: 0.2699 - val_accuracy: 0.9183 - val_loss: 0.2199\n",
      "Epoch 6/10\n",
      "\u001b[1m637/637\u001b[0m \u001b[32m━━━━━━━━━━━━━━━━━━━━\u001b[0m\u001b[37m\u001b[0m \u001b[1m11s\u001b[0m 17ms/step - accuracy: 0.9060 - loss: 0.2479 - val_accuracy: 0.9293 - val_loss: 0.2039\n",
      "Epoch 7/10\n",
      "\u001b[1m637/637\u001b[0m \u001b[32m━━━━━━━━━━━━━━━━━━━━\u001b[0m\u001b[37m\u001b[0m \u001b[1m11s\u001b[0m 17ms/step - accuracy: 0.9081 - loss: 0.2317 - val_accuracy: 0.9124 - val_loss: 0.2326\n",
      "Epoch 8/10\n",
      "\u001b[1m637/637\u001b[0m \u001b[32m━━━━━━━━━━━━━━━━━━━━\u001b[0m\u001b[37m\u001b[0m \u001b[1m11s\u001b[0m 17ms/step - accuracy: 0.9287 - loss: 0.2001 - val_accuracy: 0.9117 - val_loss: 0.2495\n",
      "Epoch 9/10\n",
      "\u001b[1m637/637\u001b[0m \u001b[32m━━━━━━━━━━━━━━━━━━━━\u001b[0m\u001b[37m\u001b[0m \u001b[1m11s\u001b[0m 17ms/step - accuracy: 0.9238 - loss: 0.2132 - val_accuracy: 0.9380 - val_loss: 0.1797\n",
      "Epoch 10/10\n",
      "\u001b[1m637/637\u001b[0m \u001b[32m━━━━━━━━━━━━━━━━━━━━\u001b[0m\u001b[37m\u001b[0m \u001b[1m11s\u001b[0m 17ms/step - accuracy: 0.9376 - loss: 0.1739 - val_accuracy: 0.9242 - val_loss: 0.2294\n"
     ]
    }
   ],
   "source": [
    "hist = mrsnt.fit(X_train, y_train, batch_size=16, epochs=10, validation_data=(X_val, y_val))"
   ]
  },
  {
   "cell_type": "code",
   "execution_count": 11,
   "metadata": {},
   "outputs": [
    {
     "name": "stdout",
     "output_type": "stream",
     "text": [
      "\u001b[1m80/80\u001b[0m \u001b[32m━━━━━━━━━━━━━━━━━━━━\u001b[0m\u001b[37m\u001b[0m \u001b[1m3s\u001b[0m 21ms/step\n"
     ]
    }
   ],
   "source": [
    "test_loss, test_accuracy = mrsnt.evaluate(X_val, y_val, verbose=0)\n",
    "y_pred = mrsnt.predict(X_val)\n",
    "y_pred_classes = y_pred.argmax(axis=1) \n",
    "y_true_classes = y_val.argmax(axis=1) \n"
   ]
  },
  {
   "cell_type": "code",
   "execution_count": null,
   "metadata": {},
   "outputs": [
    {
     "name": "stdout",
     "output_type": "stream",
     "text": [
      "===================ResNet50 - MFCC===================\n",
      "TAccuracy: 0.92422\n",
      "F1-Score: 0.92465\n",
      "Class 0: EER = 0.07436 at threshold 0.29933\n",
      "Class 1: EER = 0.07344 at threshold 0.70246\n",
      "EER: 0.07390\n"
     ]
    }
   ],
   "source": [
    "f1 = f1_score(y_true_classes, y_pred_classes, average='weighted')\n",
    "\n",
    "print(\"===================ResNet50 - MFCC===================\")\n",
    "print(f\"TAccuracy: {test_accuracy:.5f}\")\n",
    "print(f\"F1-Score: {f1:.5f}\")\n",
    "eers = []\n",
    "# Tính EER \n",
    "for i in range(y_pred.shape[1]):  # Run through each class\n",
    "    # True labels for the current class \n",
    "    y_true_binary = y_val[:, i]\n",
    "    y_pred_prob = y_pred[:, i]\n",
    "\n",
    "    \n",
    "    fpr, tpr, thresholds = roc_curve(y_true_binary, y_pred_prob)\n",
    "    fnr = 1 - tpr\n",
    "    \n",
    "    eer_threshold = thresholds[np.nanargmin(np.abs(fpr - fnr))]\n",
    "    eer = fpr[np.nanargmin(np.abs(fpr - fnr))]\n",
    "    eers.append(eer)\n",
    "    print(f\"Class {i}: EER = {eer:.5f} at threshold {eer_threshold:.5f}\")\n",
    "\n",
    "mean_eer = np.mean(eers)\n",
    "print(f\"EER: {mean_eer:.5f}\")\n"
   ]
  },
  {
   "cell_type": "code",
   "execution_count": 13,
   "metadata": {},
   "outputs": [],
   "source": [
    "# Save Model as weight with H5 format\n",
    "mrsnt.save_weights(\"CQCC_mrsnet.weights.h5\")"
   ]
  },
  {
   "cell_type": "code",
   "execution_count": null,
   "metadata": {},
   "outputs": [
    {
     "data": {
      "text/plain": [
       "1782"
      ]
     },
     "execution_count": 14,
     "metadata": {},
     "output_type": "execute_result"
    }
   ],
   "source": [
    "del f1, y_true_binary, y_pred_prob\n",
    "del fpr, tpr, thresholds, fnr, eer_threshold, eer\n",
    "del eers, mean_eer\n",
    "del mrsnt, X_train, X_test, y_train, y_test  \n",
    "gc.collect()\n"
   ]
  }
 ],
 "metadata": {
  "colab": {
   "provenance": []
  },
  "kernelspec": {
   "display_name": "base",
   "language": "python",
   "name": "python3"
  },
  "language_info": {
   "codemirror_mode": {
    "name": "ipython",
    "version": 3
   },
   "file_extension": ".py",
   "mimetype": "text/x-python",
   "name": "python",
   "nbconvert_exporter": "python",
   "pygments_lexer": "ipython3",
   "version": "3.11.11"
  }
 },
 "nbformat": 4,
 "nbformat_minor": 1
}
