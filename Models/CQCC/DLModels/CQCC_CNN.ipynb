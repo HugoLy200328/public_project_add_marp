{
 "cells": [
  {
   "cell_type": "code",
   "execution_count": null,
   "metadata": {},
   "outputs": [],
   "source": [
    "import os\n",
    "import numpy as np\n",
    "import gc\n",
    "import tensorflow as tf\n",
    "from keras.preprocessing.sequence import pad_sequences\n",
    "import pickle\n",
    "from tensorflow.keras.layers import Input, Conv2D, MaxPooling2D, Flatten, Dense, Dropout, BatchNormalization, GlobalAveragePooling2D\n",
    "from tensorflow.keras.models import Model\n",
    "from tensorflow.keras.utils import to_categorical\n",
    "from tensorflow.keras.optimizers import Adam\n",
    "from sklearn.model_selection import train_test_split\n",
    "from sklearn.ensemble import RandomForestClassifier\n",
    "from sklearn.metrics import accuracy_score, classification_report\n",
    "from sklearn.preprocessing import StandardScaler\n",
    "from sklearn.pipeline import make_pipeline\n",
    "from sklearn.ensemble import RandomForestClassifier\n",
    "from sklearn.metrics import f1_score, classification_report, accuracy_score, roc_curve\n",
    "from scipy.fftpack import dct"
   ]
  },
  {
   "cell_type": "code",
   "execution_count": null,
   "metadata": {},
   "outputs": [
    {
     "data": {
      "text/plain": [
       "(15918, 32, 109)"
      ]
     },
     "execution_count": 12,
     "metadata": {},
     "output_type": "execute_result"
    }
   ],
   "source": [
    "X = np.load('../SavedFeatures/X_cqcc.npy')\n",
    "y = np.load('../SavedFeatures/y_cqcc.npy')\n",
    "pad_height = (3, 0)  \n",
    "pad_width = (0, 0)   \n",
    "X = np.pad(X, pad_width=((0, 0), pad_height, pad_width), mode='constant', constant_values=0)\n",
    "X.shape"
   ]
  },
  {
   "cell_type": "code",
   "execution_count": null,
   "metadata": {},
   "outputs": [],
   "source": [
    "X_train, X_val, y_train, y_val= train_test_split(X, y, test_size = 0.2, random_state = 42)\n",
    "\n",
    "y_train = to_categorical(y_train, num_classes=2)\n",
    "y_val = to_categorical(y_val, num_classes=2)\n",
    "\n",
    "del X, y  \n",
    "gc.collect()"
   ]
  },
  {
   "cell_type": "code",
   "execution_count": 29,
   "metadata": {},
   "outputs": [],
   "source": [
    "def cus_CNN(input_shape, num_classes):\n",
    "    model_input = Input(shape=input_shape) \n",
    "    x = Conv2D(32, kernel_size=(3, 3), activation='relu')(model_input)\n",
    "    x = BatchNormalization()(x) \n",
    "    x = MaxPooling2D(pool_size=(2, 2))(x)\n",
    "    x = Dropout(0.4)(x)  \n",
    "    \n",
    "    x = Conv2D(64, kernel_size=(3, 3), activation='relu')(x)\n",
    "    x = Dense(128, activation='relu')(x) \n",
    "    x = MaxPooling2D(pool_size=(2, 2))(x)\n",
    "    x = Dropout(0.3)(x)  \n",
    "\n",
    "    x = Conv2D(128, kernel_size=(3, 3), activation='relu')(x)\n",
    "    x = Dense(64, activation='relu')(x) \n",
    "    x = MaxPooling2D(pool_size=(2, 2))(x)\n",
    "    x = Dropout(0.2)(x)  \n",
    "    \n",
    "    x = Flatten()(x)\n",
    "    x = Dense(32, activation='relu')(x) \n",
    "    x = Dropout(0.1)(x)  \n",
    "    \n",
    "    output = Dense(num_classes, activation='softmax')(x) \n",
    "    return Model(inputs=model_input, outputs=output)"
   ]
  },
  {
   "cell_type": "code",
   "execution_count": 30,
   "metadata": {},
   "outputs": [],
   "source": [
    "cnnmodel = cus_CNN(input_shape=(32, 109, 1), num_classes=2)\n",
    "cnnmodel.compile(optimizer=tf.keras.optimizers.Adam(learning_rate=0.0001), loss='binary_crossentropy', metrics=['accuracy'])\n"
   ]
  },
  {
   "cell_type": "code",
   "execution_count": 31,
   "metadata": {},
   "outputs": [],
   "source": [
    "tf.keras.backend.clear_session()"
   ]
  },
  {
   "cell_type": "code",
   "execution_count": null,
   "metadata": {},
   "outputs": [],
   "source": [
    "cnnmodel.fit(X_train, y_train, batch_size=16, epochs=10, validation_data=(X_val, y_val))"
   ]
  },
  {
   "cell_type": "code",
   "execution_count": 33,
   "metadata": {},
   "outputs": [
    {
     "name": "stdout",
     "output_type": "stream",
     "text": [
      "\u001b[1m80/80\u001b[0m \u001b[32m━━━━━━━━━━━━━━━━━━━━\u001b[0m\u001b[37m\u001b[0m \u001b[1m1s\u001b[0m 4ms/step\n",
      "===================CNN - MFCC===================\n",
      "Accuracy: 0.93286\n",
      "F1-Score: 0.93247\n",
      "Class 0: EER = 0.07143 at threshold 0.85711\n",
      "Class 1: EER = 0.07213 at threshold 0.14355\n",
      "EER: 0.07178\n"
     ]
    }
   ],
   "source": [
    "test_loss, test_accuracy = cnnmodel.evaluate(X_val, y_val, verbose=0)\n",
    "y_pred = cnnmodel.predict(X_val)\n",
    "y_pred_classes = y_pred.argmax(axis=1)\n",
    "y_true_classes = y_val.argmax(axis=1) \n",
    "\n",
    "# Calculate F1-score\n",
    "f1 = f1_score(y_true_classes, y_pred_classes, average='weighted')\n",
    "\n",
    "print(\"===================CNN - MFCC===================\")\n",
    "print(f\"Accuracy: {test_accuracy:.5f}\")\n",
    "print(f\"F1-Score: {f1:.5f}\")\n",
    "eers = []\n",
    "for i in range(y_pred.shape[1]):\n",
    "    y_true_binary = y_val[:, i]\n",
    "    y_pred_prob = y_pred[:, i]\n",
    "    fpr, tpr, thresholds = roc_curve(y_true_binary, y_pred_prob)\n",
    "    fnr = 1 - tpr\n",
    "    eer_threshold = thresholds[np.nanargmin(np.abs(fpr - fnr))]\n",
    "    eer = fpr[np.nanargmin(np.abs(fpr - fnr))]\n",
    "    eers.append(eer)\n",
    "    print(f\"Class {i}: EER = {eer:.5f} at threshold {eer_threshold:.5f}\")\n",
    "# Average EER across classes\n",
    "mean_eer = np.mean(eers)\n",
    "print(f\"EER: {mean_eer:.5f}\")\n"
   ]
  },
  {
   "cell_type": "code",
   "execution_count": null,
   "metadata": {},
   "outputs": [
    {
     "name": "stderr",
     "output_type": "stream",
     "text": [
      "WARNING:absl:You are saving your model as an HDF5 file via `model.save()` or `keras.saving.save_model(model)`. This file format is considered legacy. We recommend using instead the native Keras format, e.g. `model.save('my_model.keras')` or `keras.saving.save_model(model, 'my_model.keras')`. \n"
     ]
    }
   ],
   "source": [
    "cnnmodel.save(\"../SavedModels/CQCC_cus_cnn.h5\")"
   ]
  },
  {
   "cell_type": "code",
   "execution_count": null,
   "metadata": {},
   "outputs": [
    {
     "data": {
      "text/plain": [
       "1043"
      ]
     },
     "execution_count": 35,
     "metadata": {},
     "output_type": "execute_result"
    }
   ],
   "source": [
    "\n",
    "del cnnmodel, X_train, X_test, y_train, y_test  \n",
    "del test_loss, test_accuracy\n",
    "del y_pred, y_pred_classes, y_true_classes, f1\n",
    "del y_true_binary, y_pred_prob, fpr, tpr, thresholds, fnr, eer_threshold, eer\n",
    "del eers, mean_eer\n",
    "gc.collect()\n"
   ]
  }
 ],
 "metadata": {
  "kernelspec": {
   "display_name": "base",
   "language": "python",
   "name": "python3"
  },
  "language_info": {
   "codemirror_mode": {
    "name": "ipython",
    "version": 3
   },
   "file_extension": ".py",
   "mimetype": "text/x-python",
   "name": "python",
   "nbconvert_exporter": "python",
   "pygments_lexer": "ipython3",
   "version": "3.11.11"
  }
 },
 "nbformat": 4,
 "nbformat_minor": 2
}
