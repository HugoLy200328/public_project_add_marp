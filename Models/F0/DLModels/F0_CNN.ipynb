{
 "cells": [
  {
   "cell_type": "code",
   "execution_count": 29,
   "metadata": {
    "id": "ACgT2jaHdlTR"
   },
   "outputs": [],
   "source": [
    "import os\n",
    "import numpy as np\n",
    "import librosa\n",
    "import tensorflow as tf\n",
    "import gc\n",
    "import pickle\n",
    "from tensorflow.keras.layers import Input, Conv2D, MaxPooling2D, Flatten, Dense, Dropout, BatchNormalization, GlobalAveragePooling2D\n",
    "from tensorflow.keras.layers import Conv1D, MaxPooling1D\n",
    "from tensorflow.keras.models import Model\n",
    "from tensorflow.keras.utils import to_categorical\n",
    "from tensorflow.keras.optimizers import Adam\n",
    "from sklearn.model_selection import train_test_split\n",
    "from sklearn.metrics import accuracy_score, classification_report\n",
    "from sklearn.preprocessing import StandardScaler\n",
    "from sklearn.metrics import f1_score, classification_report, accuracy_score, roc_curve"
   ]
  },
  {
   "cell_type": "code",
   "execution_count": null,
   "metadata": {},
   "outputs": [],
   "source": [
    "NUM_CLASSES = 2  \n",
    "\n",
    "X = np.load('../SavedFeatures/X_f0.npy')\n",
    "y = np.load('../SavedFeatures/y_f0.npy')\n",
    "\n",
    "y_encoded = to_categorical(y, NUM_CLASSES)\n",
    "split_index = int(0.8 * len(X))\n",
    "X_train, X_val = X[:split_index], X[split_index:]\n",
    "y_train, y_val = y_encoded[:split_index], y_encoded[split_index:]"
   ]
  },
  {
   "cell_type": "code",
   "execution_count": null,
   "metadata": {},
   "outputs": [],
   "source": [
    "del X,y\n",
    "gc.collect()"
   ]
  },
  {
   "cell_type": "code",
   "execution_count": 24,
   "metadata": {},
   "outputs": [],
   "source": [
    "def cus_CNN(input_shape, num_classes):\n",
    "    model_input = Input(shape=input_shape) \n",
    "    \n",
    "    x = Conv1D(32, kernel_size=3, activation='relu')(model_input)\n",
    "    x = BatchNormalization()(x) \n",
    "    x = MaxPooling1D(pool_size=2)(x)\n",
    "    x = Dropout(0.4)(x)  \n",
    "    \n",
    "    x = Conv1D(64, kernel_size=3, activation='relu')(x)\n",
    "    x = MaxPooling1D(pool_size=2)(x)\n",
    "    x = Dropout(0.3)(x)  \n",
    "\n",
    "    x = Conv1D(128, kernel_size=3, activation='relu')(x)\n",
    "    x = MaxPooling1D(pool_size=2)(x)\n",
    "    x = Dropout(0.2)(x)  \n",
    "    x = Flatten()(x)\n",
    "\n",
    "    x = Dropout(0.2)(x)  \n",
    "    output = Dense(num_classes, activation='softmax')(x) \n",
    "    \n",
    "    \n",
    "    return Model(inputs=model_input, outputs=output)"
   ]
  },
  {
   "cell_type": "code",
   "execution_count": 25,
   "metadata": {},
   "outputs": [],
   "source": [
    "cnnmodel = cus_CNN(input_shape=(109, 1), num_classes=2)\n",
    "\n",
    "cnnmodel.compile(optimizer=tf.keras.optimizers.Adam(learning_rate=0.0001), loss='binary_crossentropy', metrics=['accuracy'])\n",
    "tf.keras.backend.clear_session()"
   ]
  },
  {
   "cell_type": "code",
   "execution_count": 26,
   "metadata": {},
   "outputs": [
    {
     "name": "stdout",
     "output_type": "stream",
     "text": [
      "Epoch 1/10\n"
     ]
    },
    {
     "name": "stdout",
     "output_type": "stream",
     "text": [
      "\u001b[1m796/796\u001b[0m \u001b[32m━━━━━━━━━━━━━━━━━━━━\u001b[0m\u001b[37m\u001b[0m \u001b[1m4s\u001b[0m 3ms/step - accuracy: 0.6243 - loss: 0.7590 - val_accuracy: 0.7362 - val_loss: 0.6012\n",
      "Epoch 2/10\n",
      "\u001b[1m796/796\u001b[0m \u001b[32m━━━━━━━━━━━━━━━━━━━━\u001b[0m\u001b[37m\u001b[0m \u001b[1m1s\u001b[0m 993us/step - accuracy: 0.7163 - loss: 0.6217 - val_accuracy: 0.7462 - val_loss: 0.5811\n",
      "Epoch 3/10\n",
      "\u001b[1m796/796\u001b[0m \u001b[32m━━━━━━━━━━━━━━━━━━━━\u001b[0m\u001b[37m\u001b[0m \u001b[1m1s\u001b[0m 974us/step - accuracy: 0.7387 - loss: 0.5844 - val_accuracy: 0.7481 - val_loss: 0.5759\n",
      "Epoch 4/10\n",
      "\u001b[1m796/796\u001b[0m \u001b[32m━━━━━━━━━━━━━━━━━━━━\u001b[0m\u001b[37m\u001b[0m \u001b[1m1s\u001b[0m 977us/step - accuracy: 0.7361 - loss: 0.5804 - val_accuracy: 0.7563 - val_loss: 0.5601\n",
      "Epoch 5/10\n",
      "\u001b[1m796/796\u001b[0m \u001b[32m━━━━━━━━━━━━━━━━━━━━\u001b[0m\u001b[37m\u001b[0m \u001b[1m1s\u001b[0m 974us/step - accuracy: 0.7407 - loss: 0.5658 - val_accuracy: 0.7557 - val_loss: 0.5416\n",
      "Epoch 6/10\n",
      "\u001b[1m796/796\u001b[0m \u001b[32m━━━━━━━━━━━━━━━━━━━━\u001b[0m\u001b[37m\u001b[0m \u001b[1m1s\u001b[0m 960us/step - accuracy: 0.7477 - loss: 0.5537 - val_accuracy: 0.7619 - val_loss: 0.5354\n",
      "Epoch 7/10\n",
      "\u001b[1m796/796\u001b[0m \u001b[32m━━━━━━━━━━━━━━━━━━━━\u001b[0m\u001b[37m\u001b[0m \u001b[1m1s\u001b[0m 949us/step - accuracy: 0.7577 - loss: 0.5399 - val_accuracy: 0.7657 - val_loss: 0.5224\n",
      "Epoch 8/10\n",
      "\u001b[1m796/796\u001b[0m \u001b[32m━━━━━━━━━━━━━━━━━━━━\u001b[0m\u001b[37m\u001b[0m \u001b[1m1s\u001b[0m 1ms/step - accuracy: 0.7600 - loss: 0.5337 - val_accuracy: 0.7676 - val_loss: 0.5200\n",
      "Epoch 9/10\n",
      "\u001b[1m796/796\u001b[0m \u001b[32m━━━━━━━━━━━━━━━━━━━━\u001b[0m\u001b[37m\u001b[0m \u001b[1m1s\u001b[0m 1ms/step - accuracy: 0.7669 - loss: 0.5322 - val_accuracy: 0.7770 - val_loss: 0.5169\n",
      "Epoch 10/10\n",
      "\u001b[1m796/796\u001b[0m \u001b[32m━━━━━━━━━━━━━━━━━━━━\u001b[0m\u001b[37m\u001b[0m \u001b[1m1s\u001b[0m 955us/step - accuracy: 0.7733 - loss: 0.5198 - val_accuracy: 0.7745 - val_loss: 0.5136\n"
     ]
    },
    {
     "data": {
      "text/plain": [
       "<keras.src.callbacks.history.History at 0x7e29eed56410>"
      ]
     },
     "execution_count": 26,
     "metadata": {},
     "output_type": "execute_result"
    }
   ],
   "source": [
    "cnnmodel.fit(X_train, y_train, batch_size=16, epochs=10, validation_data=(X_val, y_val))"
   ]
  },
  {
   "cell_type": "markdown",
   "metadata": {},
   "source": [
    "#### Evaluation Metrics"
   ]
  },
  {
   "cell_type": "code",
   "execution_count": null,
   "metadata": {},
   "outputs": [
    {
     "name": "stdout",
     "output_type": "stream",
     "text": [
      "\u001b[1m100/100\u001b[0m \u001b[32m━━━━━━━━━━━━━━━━━━━━\u001b[0m\u001b[37m\u001b[0m \u001b[1m0s\u001b[0m 1ms/step \n",
      "===================CNN - F0===================\n",
      "Test Accuracy: 0.77450\n",
      "F1-Score: 0.77068\n",
      "Class 0: EER = 0.24463 at threshold 0.69705\n",
      "Class 1: EER = 0.24468 at threshold 0.30305\n",
      "EER: 0.24466\n"
     ]
    }
   ],
   "source": [
    "test_loss, test_accuracy = cnnmodel.evaluate(X_val, y_val, verbose=0)\n",
    "y_pred = cnnmodel.predict(X_val)\n",
    "y_pred_classes = y_pred.argmax(axis=1)\n",
    "y_true_classes = y_val.argmax(axis=1)\n",
    "\n",
    "\n",
    "f1 = f1_score(y_true_classes, y_pred_classes, average='weighted')\n",
    "\n",
    "\n",
    "# Tính EER\n",
    "eers = []\n",
    "print(\"===================CNN - F0===================\")\n",
    "print(f\"Test Accuracy: {test_accuracy:.5f}\")\n",
    "print(f\"F1-Score: {f1:.5f}\")\n",
    "\n",
    "\n",
    "for i in range(y_pred.shape[1]):\n",
    "    y_true_binary = y_val[:, i]\n",
    "    y_pred_prob = y_pred[:, i]\n",
    "    fpr, tpr, thresholds = roc_curve(y_true_binary, y_pred_prob)\n",
    "    fnr = 1 - tpr\n",
    "    eer_threshold = thresholds[np.nanargmin(np.abs(fpr - fnr))]\n",
    "    eer = fpr[np.nanargmin(np.abs(fpr - fnr))]\n",
    "    eers.append(eer)\n",
    "    print(f\"Class {i}: EER = {eer:.5f} at threshold {eer_threshold:.5f}\")\n",
    "\n",
    "\n",
    "mean_eer = np.mean(eers)\n",
    "print(f\"EER: {mean_eer:.5f}\")"
   ]
  },
  {
   "cell_type": "code",
   "execution_count": null,
   "metadata": {},
   "outputs": [
    {
     "name": "stderr",
     "output_type": "stream",
     "text": [
      "WARNING:absl:You are saving your model as an HDF5 file via `model.save()` or `keras.saving.save_model(model)`. This file format is considered legacy. We recommend using instead the native Keras format, e.g. `model.save('my_model.keras')` or `keras.saving.save_model(model, 'my_model.keras')`. \n"
     ]
    }
   ],
   "source": [
    "# Save model as H5 File\n",
    "cnnmodel.save(\"../SavedModel/F0_cus_cnn.h5\")"
   ]
  },
  {
   "cell_type": "code",
   "execution_count": 30,
   "metadata": {},
   "outputs": [
    {
     "data": {
      "text/plain": [
       "1369"
      ]
     },
     "execution_count": 30,
     "metadata": {},
     "output_type": "execute_result"
    }
   ],
   "source": [
    "\n",
    "del cnnmodel, X_train, X_val, y_train, y_val  \n",
    "gc.collect()\n"
   ]
  }
 ],
 "metadata": {
  "colab": {
   "provenance": []
  },
  "kernelspec": {
   "display_name": "base",
   "language": "python",
   "name": "python3"
  },
  "language_info": {
   "codemirror_mode": {
    "name": "ipython",
    "version": 3
   },
   "file_extension": ".py",
   "mimetype": "text/x-python",
   "name": "python",
   "nbconvert_exporter": "python",
   "pygments_lexer": "ipython3",
   "version": "3.11.11"
  }
 },
 "nbformat": 4,
 "nbformat_minor": 1
}
