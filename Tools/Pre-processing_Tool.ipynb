{
 "cells": [
  {
   "cell_type": "code",
   "execution_count": null,
   "id": "7c4783b9",
   "metadata": {},
   "outputs": [],
   "source": [
    "import os\n",
    "from pydub import AudioSegment\n",
    "import random\n",
    "import librosa\n",
    "import librosa.display\n",
    "import soundfile as sf\n",
    "import shutil"
   ]
  },
  {
   "cell_type": "markdown",
   "id": "f9156119",
   "metadata": {},
   "source": [
    "### 1. Time Filtering"
   ]
  },
  {
   "cell_type": "code",
   "execution_count": null,
   "id": "36e1cb62",
   "metadata": {},
   "outputs": [],
   "source": [
    "import os\n",
    "from pydub import AudioSegment\n",
    "\n",
    "def delete_short_audio_files(folder_path, medium_duration_min=5, medium_duration_max=7):\n",
    "    def get_audio_length(file_path):\n",
    "        audio = AudioSegment.from_file(file_path)\n",
    "        duration = len(audio) / 1000.0  \n",
    "        return duration\n",
    "\n",
    "    for filename in os.listdir(folder_path):\n",
    "        if filename.endswith(('.wav', '.flac')):  \n",
    "            file_path = os.path.join(folder_path, filename)\n",
    "            try:\n",
    "                duration = get_audio_length(file_path)\n",
    "                \n",
    "                if duration < medium_duration_min or duration > medium_duration_max:\n",
    "                    os.remove(file_path)\n",
    "                    print(f\"Deleted {filename} (duration: {duration:.2f} seconds)\")\n",
    "            except Exception as e:\n",
    "                print(f\"Could not process {filename}: {e}\")\n"
   ]
  },
  {
   "cell_type": "code",
   "execution_count": null,
   "id": "b3585c6f",
   "metadata": {},
   "outputs": [],
   "source": [
    "folder_path = 'D:/DEEPFAKE_DETECTION/DATASETS/ENGLISH/DATA/ASVspoof2021_DF_eval_part03/flac'\n",
    "minute_min = 3.83\n",
    "minute_max = 6.8\n",
    "delete_short_audio_files(folder_path, minute_min, minute_max)"
   ]
  },
  {
   "cell_type": "markdown",
   "id": "ff1ef8dc",
   "metadata": {},
   "source": [
    "### 2. Segment Spliting"
   ]
  },
  {
   "cell_type": "code",
   "execution_count": null,
   "id": "d85573f3",
   "metadata": {},
   "outputs": [],
   "source": [
    "def split_audio(input_file, output_folder, segment_duration):\n",
    "    if not os.path.exists(output_folder):\n",
    "        os.makedirs(output_folder)\n",
    "    audio = AudioSegment.from_file(input_file)\n",
    "    total_duration = len(audio)\n",
    "    num_segments = total_duration // segment_duration\n",
    "\n",
    "    for i in range(num_segments):\n",
    "        start_time = i * segment_duration\n",
    "        end_time = min((i + 1) * segment_duration, total_duration)\n",
    "        segment = audio[start_time:end_time]\n",
    "        output_file = os.path.join(output_folder, f\"nu8_{str(i+1).zfill(len(str(num_segments)))}.wav\")\n",
    "        segment.export(output_file, format=\"wav\")\n",
    "\n",
    "    print(f\"Audio file split into {num_segments} segments.\")"
   ]
  },
  {
   "cell_type": "code",
   "execution_count": null,
   "id": "d543775d",
   "metadata": {},
   "outputs": [],
   "source": [
    "input_file = \"../DATASETS/TTS/GiongGIA_TTSV2/nu/SOURCE/nu8.wav\"\n",
    "output_folder = \"../DATASETS/TTS/GiongGIA_TTSV2/nu/SOURCE/nu8\"\n",
    "Audio_Segment = 5000 #Tính theo Mili giây nên 5000ms --> 5s\n",
    "split_audio(input_file, output_folder, Audio_Segment)"
   ]
  },
  {
   "cell_type": "markdown",
   "id": "e710d83c",
   "metadata": {},
   "source": [
    "### 3. Shuffle"
   ]
  },
  {
   "cell_type": "code",
   "execution_count": null,
   "id": "6a8b2b87",
   "metadata": {},
   "outputs": [],
   "source": [
    "def shuffle_folder(folder_path):\n",
    "    files = os.listdir(folder_path)\n",
    "    \n",
    "    random.shuffle(files)\n",
    "    \n",
    "    for i, filename in enumerate(files):\n",
    "        random_prefix = str(random.randint(10000, 99999))\n",
    "        \n",
    "        new_filename = f\"{random_prefix}_{filename}\"\n",
    "        \n",
    "        old_file = os.path.join(folder_path, filename)\n",
    "        new_file = os.path.join(folder_path, new_filename)\n",
    "        os.rename(old_file, new_file)\n"
   ]
  },
  {
   "cell_type": "markdown",
   "id": "2c786bc7",
   "metadata": {},
   "source": [
    "### 4. Label"
   ]
  },
  {
   "cell_type": "code",
   "execution_count": null,
   "id": "47851220",
   "metadata": {},
   "outputs": [],
   "source": [
    "folder_path = '../PROJECT/1.English_EN/run/Runner'\n",
    "file_names = sorted(os.listdir(folder_path))\n"
   ]
  },
  {
   "cell_type": "code",
   "execution_count": null,
   "id": "14e2c76c",
   "metadata": {},
   "outputs": [],
   "source": [
    "with open('file_label_run.txt', 'w') as f:\n",
    "    for file_name in file_names:\n",
    "        file_name_no_ext = os.path.splitext(file_name)[0]\n",
    "        \n",
    "        if file_name_no_ext.endswith('_b'):\n",
    "            f.write(f\"GIONG {file_name_no_ext} - - bonafide\\n\")\n",
    "        elif file_name_no_ext.endswith('_s'):\n",
    "            f.write(f\"GIONG {file_name_no_ext} - - spoof\\n\")\n",
    "\n",
    "print(\"File list created successfully.\")\n"
   ]
  }
 ],
 "metadata": {
  "kernelspec": {
   "display_name": "Python 3",
   "language": "python",
   "name": "python3"
  },
  "language_info": {
   "name": "python",
   "version": "3.12.2"
  }
 },
 "nbformat": 4,
 "nbformat_minor": 5
}
