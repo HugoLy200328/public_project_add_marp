{
 "cells": [
  {
   "cell_type": "code",
   "execution_count": 1,
   "metadata": {},
   "outputs": [],
   "source": [
    "import os\n",
    "import numpy as np\n",
    "import librosa\n",
    "import pickle"
   ]
  },
  {
   "cell_type": "code",
   "execution_count": null,
   "metadata": {},
   "outputs": [],
   "source": [
    "# Xác định các paths\n",
    "DATASET_PATH = \"D:/VOICE_CONVERTED/DemoProject/Run/RunFlac\"\n",
    "LABEL_FILE_PATH = \"D:/VOICE_CONVERTED/DemoProject/Run/file_label_run.txt\"\n",
    "\n",
    "# Xác định các thông số\n",
    "NUM_CLASSES = 2  # số nhãn\n",
    "SAMPLE_RATE = 16000  # SR của file âm thanh\n",
    "DURATION = 5  # Thời gian file âm thanh\n",
    "MX_TIME_STP = 109"
   ]
  },
  {
   "cell_type": "code",
   "execution_count": 3,
   "metadata": {},
   "outputs": [],
   "source": [
    "# Lấy Labels của files\n",
    "labels = {}\n",
    "with open(LABEL_FILE_PATH, 'r') as label_file:\n",
    "    lines = label_file.readlines()\n",
    "\n",
    "for line in lines:\n",
    "    parts = line.strip().split()\n",
    "    file_name = parts[1]\n",
    "    label = 1 if parts[-1] == \"bonafide\" else 0\n",
    "    labels[file_name] = label\n"
   ]
  },
  {
   "cell_type": "code",
   "execution_count": null,
   "metadata": {},
   "outputs": [],
   "source": [
    "X = []\n",
    "y = []\n",
    "\n",
    "for file_name, label in labels.items():\n",
    "    file_path = os.path.join(DATASET_PATH, file_name + \".flac\")\n",
    "    audio, _ = librosa.load(file_path, sr=SAMPLE_RATE, duration=DURATION)\n",
    "\n",
    "    # Extract F0\n",
    "    f0, _, _ = librosa.pyin(audio, \n",
    "                            fmin=librosa.note_to_hz('C2'), \n",
    "                            fmax=librosa.note_to_hz('C7'), \n",
    "                            sr=SAMPLE_RATE)\n",
    "    f0 = np.nan_to_num(f0) \n",
    "\n",
    "    if len(f0) < MX_TIME_STP:   \n",
    "        f0 = np.pad(f0, (0, MX_TIME_STP - len(f0)), mode='constant')\n",
    "    else:\n",
    "        f0 = f0[:MX_TIME_STP]\n",
    "    \n",
    "    X.append(f0)\n",
    "    y.append(label)"
   ]
  },
  {
   "cell_type": "code",
   "execution_count": 5,
   "metadata": {},
   "outputs": [],
   "source": [
    "# Chueyern dữ liệu list về numpy\n",
    "X = np.array(X)\n",
    "y = np.array(y)"
   ]
  },
  {
   "cell_type": "code",
   "execution_count": 6,
   "metadata": {},
   "outputs": [],
   "source": [
    "# Lưu feature \n",
    "np.save('./SavedFeatures/X_f0.npy', X)"
   ]
  },
  {
   "cell_type": "code",
   "execution_count": 7,
   "metadata": {},
   "outputs": [],
   "source": [
    "np.save('./SavedFeatures/y_f0.npy', y)"
   ]
  }
 ],
 "metadata": {
  "kernelspec": {
   "display_name": ".venv",
   "language": "python",
   "name": "python3"
  },
  "language_info": {
   "codemirror_mode": {
    "name": "ipython",
    "version": 3
   },
   "file_extension": ".py",
   "mimetype": "text/x-python",
   "name": "python",
   "nbconvert_exporter": "python",
   "pygments_lexer": "ipython3",
   "version": "3.11.1"
  }
 },
 "nbformat": 4,
 "nbformat_minor": 2
}
