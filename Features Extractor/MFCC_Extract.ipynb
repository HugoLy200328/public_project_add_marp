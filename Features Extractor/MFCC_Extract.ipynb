{
 "cells": [
  {
   "cell_type": "code",
   "execution_count": null,
   "metadata": {},
   "outputs": [],
   "source": [
    "import os\n",
    "import numpy as np\n",
    "import librosa\n",
    "import pickle"
   ]
  },
  {
   "cell_type": "code",
   "execution_count": null,
   "metadata": {},
   "outputs": [],
   "source": [
    "# Xác định các paths\n",
    "DATASET_PATH = \"D:/VOICE_CONVERTED/DemoProject/Run/RunFlac\"\n",
    "LABEL_FILE_PATH = \"D:/VOICE_CONVERTED/DemoProject/Run/file_label_run.txt\"\n",
    "\n",
    "# Xác định các thông số\n",
    "NUM_CLASSES = 2  # số nhãn\n",
    "SAMPLE_RATE = 16000  # SR của file âm thanh\n",
    "DURATION = 5  # Thời gian file âm thanh\n",
    "N_MFCC = 128  # Số Mel Bin\n",
    "MX_TIME_STP = 109"
   ]
  },
  {
   "cell_type": "code",
   "execution_count": null,
   "metadata": {},
   "outputs": [],
   "source": [
    "# Lấy Labels của files\n",
    "labels = {}\n",
    "with open(LABEL_FILE_PATH, 'r') as label_file:\n",
    "    lines = label_file.readlines()\n",
    "\n",
    "for line in lines:\n",
    "    parts = line.strip().split()\n",
    "    file_name = parts[1]\n",
    "    label = 1 if parts[-1] == \"bonafide\" else 0\n",
    "    labels[file_name] = label\n"
   ]
  },
  {
   "cell_type": "code",
   "execution_count": null,
   "metadata": {},
   "outputs": [],
   "source": [
    "\n",
    "X = []\n",
    "y = []\n",
    "\n",
    "for file_name, label in labels.items():\n",
    "    file_path = os.path.join(DATASET_PATH, file_name + \".flac\")\n",
    "\n",
    "    # Load audio\n",
    "    audio, _ = librosa.load(file_path, sr=SAMPLE_RATE, duration=DURATION)\n",
    "    mfcc = librosa.feature.mfcc(y=audio, sr=SAMPLE_RATE, n_mfcc=N_MFCC)\n",
    "\n",
    "    # Padding or cắt bỏ MFCC \n",
    "    if mfcc.shape[1] < MX_TIME_STP:\n",
    "        mfcc = np.pad(mfcc, ((0, 0), (0, MX_TIME_STP - mfcc.shape[1])), mode='constant')\n",
    "    else:\n",
    "        mfcc = mfcc[:, :MX_TIME_STP]\n",
    "\n",
    "    X.append(mfcc)\n",
    "    y.append(label)"
   ]
  },
  {
   "cell_type": "code",
   "execution_count": null,
   "metadata": {},
   "outputs": [],
   "source": [
    "# Chueyern dữ liệu list về numpy\n",
    "X = np.array(X)\n",
    "y = np.array(y)"
   ]
  },
  {
   "cell_type": "code",
   "execution_count": null,
   "metadata": {},
   "outputs": [],
   "source": [
    "# Lưu feature \n",
    "np.save('../Short_term_Spectral/FeaturesVectors/X_mel_spec3.npy', X)"
   ]
  },
  {
   "cell_type": "code",
   "execution_count": null,
   "metadata": {},
   "outputs": [],
   "source": [
    "# Lưu label\n",
    "np.save('../Short_term_Spectral/FeaturesVectors/y_mel_spec3.npy', y)"
   ]
  }
 ],
 "metadata": {
  "language_info": {
   "name": "python"
  }
 },
 "nbformat": 4,
 "nbformat_minor": 2
}
