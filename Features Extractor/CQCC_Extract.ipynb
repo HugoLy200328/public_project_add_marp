{
 "cells": [
  {
   "cell_type": "code",
   "execution_count": 1,
   "metadata": {},
   "outputs": [],
   "source": [
    "import os\n",
    "import numpy as np\n",
    "import librosa\n",
    "import pickle\n",
    "from scipy.fftpack import dct"
   ]
  },
  {
   "cell_type": "code",
   "execution_count": null,
   "metadata": {},
   "outputs": [],
   "source": [
    "# Xác định các paths\n",
    "DATASET_PATH = \"D:/VOICE_CONVERTED/DemoProject/Run/RunFlac\"\n",
    "LABEL_FILE_PATH = \"D:/VOICE_CONVERTED/DemoProject/Run/file_label_run.txt\"\n",
    "# Xác định các thông số\n",
    "NUM_CLASSES = 2  # số nhãn\n",
    "SAMPLE_RATE = 16000  # SR của file âm thanh\n",
    "DURATION = 5  # Thời gian file âm thanh\n",
    "N_MELS = 128  # Số Mel Bin\n",
    "N_COF = 29"
   ]
  },
  {
   "cell_type": "code",
   "execution_count": null,
   "metadata": {},
   "outputs": [],
   "source": [
    "def load_audio(filepath, sr=None):\n",
    "    y, sr = librosa.load(filepath, sr=sr)\n",
    "    return y, sr\n",
    "\n",
    "# tính toán constant-Q\n",
    "def compute_cqt(y, sr, n_bins=84, bins_per_octave=12):\n",
    "    cqt = np.abs(librosa.cqt(y, sr=sr, n_bins=n_bins, bins_per_octave=bins_per_octave)) ** 2\n",
    "    return cqt\n",
    "\n",
    "# Logarith hóa\n",
    "def log_compress(spectrum):\n",
    "    return np.log1p(spectrum)\n",
    "\n",
    "\n",
    "# chuẩn hóa chieuf dữ liêu\n",
    "def uniform_sampling(log_spectrum, num_samples=50):\n",
    "    indices = np.linspace(0, log_spectrum.shape[0] - 1, num_samples, dtype=int)\n",
    "    return log_spectrum[indices, :]\n",
    "\n",
    "# tính dct\n",
    "def compute_dct(log_cqt):\n",
    "    cqcc = dct(log_cqt, type=2, axis=0, norm='ortho')\n",
    "    return cqcc\n",
    "\n",
    "def extract_cqcc(y, sr, num_samples=60, num_coefficients=29):\n",
    "    cqt = compute_cqt(y, sr)\n",
    "    log_cqt = log_compress(cqt)\n",
    "    sampled_log_cqt = uniform_sampling(log_cqt, num_samples)\n",
    "    \n",
    "    # DCT \n",
    "    cqcc = compute_dct(sampled_log_cqt)\n",
    "    \n",
    "    # Lấy những bin đầu của tần âm phổ,...\n",
    "    return cqcc[:num_coefficients, :]"
   ]
  },
  {
   "cell_type": "code",
   "execution_count": 4,
   "metadata": {},
   "outputs": [],
   "source": [
    "# Lấy Labels của files\n",
    "labels = {}\n",
    "with open(LABEL_FILE_PATH, 'r') as label_file:\n",
    "    lines = label_file.readlines()\n",
    "\n",
    "for line in lines:\n",
    "    parts = line.strip().split()\n",
    "    file_name = parts[1]\n",
    "    label = 1 if parts[-1] == \"bonafide\" else 0\n",
    "    labels[file_name] = label\n"
   ]
  },
  {
   "cell_type": "code",
   "execution_count": 6,
   "metadata": {},
   "outputs": [],
   "source": [
    "X = []\n",
    "y = []\n",
    "\n",
    "# Lấy features Mel-spectrogram của files âm thanh\n",
    "max_time_steps = 109  # max timestep của model\n",
    "for file_name, label in labels.items():\n",
    "    file_path = os.path.join(DATASET_PATH, file_name + \".flac\")\n",
    "\n",
    "    # Tải âm thành\n",
    "    audio, _ = librosa.load(file_path, sr=SAMPLE_RATE, duration=DURATION)\n",
    "\n",
    "    cqcc = extract_cqcc(audio, SAMPLE_RATE, N_COF)\n",
    "\n",
    "    if cqcc.shape[1] < max_time_steps:\n",
    "        cqcc = np.pad(cqcc, ((0, 0), (0, max_time_steps - cqcc.shape[1])), mode='constant')\n",
    "    else:\n",
    "        cqcc = cqcc[:, :max_time_steps]\n",
    "\n",
    "    X.append(cqcc)\n",
    "    y.append(label)"
   ]
  },
  {
   "cell_type": "code",
   "execution_count": 7,
   "metadata": {},
   "outputs": [],
   "source": [
    "# Chueyern dữ liệu list về numpy\n",
    "X = np.array(X)\n",
    "y = np.array(y)"
   ]
  },
  {
   "cell_type": "code",
   "execution_count": null,
   "metadata": {},
   "outputs": [],
   "source": [
    "# Lưu Label và Features của files âm thanh\n",
    "np.save('./SavedFeatures/X_cqcc4.npy', X)"
   ]
  },
  {
   "cell_type": "code",
   "execution_count": 9,
   "metadata": {},
   "outputs": [],
   "source": [
    "np.save('./SavedFeatures/y_cqcc4.npy', y)"
   ]
  }
 ],
 "metadata": {
  "kernelspec": {
   "display_name": ".venv",
   "language": "python",
   "name": "python3"
  },
  "language_info": {
   "codemirror_mode": {
    "name": "ipython",
    "version": 3
   },
   "file_extension": ".py",
   "mimetype": "text/x-python",
   "name": "python",
   "nbconvert_exporter": "python",
   "pygments_lexer": "ipython3",
   "version": "3.11.1"
  }
 },
 "nbformat": 4,
 "nbformat_minor": 2
}
